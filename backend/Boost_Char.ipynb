{
 "cells": [
  {
   "cell_type": "markdown",
   "metadata": {},
   "source": [
    "## Boost Charecterization"
   ]
  },
  {
   "cell_type": "markdown",
   "metadata": {},
   "source": [
    "### Scan I2C Salves "
   ]
  },
  {
   "cell_type": "code",
   "execution_count": 1,
   "metadata": {},
   "outputs": [
    {
     "name": "stdout",
     "output_type": "stream",
     "text": [
      "Searching...\n",
      "I2C slave found at address 0x18\n",
      "I2C slave found at address 0x29\n",
      "I2C slave found at address 0x2D\n",
      "I2C slave found at address 0x2F\n"
     ]
    }
   ],
   "source": [
    "# Connect to MCP2221\n",
    "import EasyMCP2221\n",
    "from time import sleep\n",
    "\n",
    "# Connect to MCP2221\n",
    "mcp = EasyMCP2221.Device()\n",
    "\n",
    "# Optionally configure GP3 to show I2C bus activity.\n",
    "mcp.set_pin_function(gp3 = \"LED_I2C\")\n",
    "\n",
    "print(\"Searching...\")\n",
    "\n",
    "for addr in range(0, 0x80):\n",
    "    try:\n",
    "        mcp.I2C_read(addr)\n",
    "        print(\"I2C slave found at address 0x%02X\" % (addr))\n",
    "\n",
    "    except EasyMCP2221.exceptions.NotAckError:\n",
    "        pass\n"
   ]
  },
  {
   "cell_type": "markdown",
   "metadata": {},
   "source": [
    "### Meter Setup"
   ]
  },
  {
   "cell_type": "code",
   "execution_count": 2,
   "metadata": {},
   "outputs": [
    {
     "name": "stdout",
     "output_type": "stream",
     "text": [
      "5.0535494\n"
     ]
    }
   ],
   "source": [
    "from multimeter import mul_34401A\n",
    "\n",
    "meter = mul_34401A('GPIB0::25::INSTR')\n",
    "print(meter.meas_V())\n"
   ]
  },
  {
   "cell_type": "markdown",
   "metadata": {},
   "source": [
    "### Boost Voltage measurement"
   ]
  },
  {
   "cell_type": "code",
   "execution_count": 3,
   "metadata": {},
   "outputs": [],
   "source": [
    "import pandas as pd \n",
    "from time import sleep\n",
    "def ADC_Vbus_Value(ADCAddr=0x29):\n",
    "    BoostADC = mcp.I2C_Slave(ADCAddr)\n",
    "    BoostADC.write([0x0B,0x5C])\n",
    "    Vsense_LSB = int.from_bytes(BoostADC.read_register(0x0D),'little') # LSB of the ADC value \n",
    "    Vsense_MSB = int.from_bytes(BoostADC.read_register(0x11),'little') # LSB of the ADC value \n",
    "    FSV = (40 - 40/2047) \n",
    "    Vsense = ((Vsense_MSB << 8 ) | Vsense_LSB) >> 5 \n",
    "    Vbus = FSV*Vsense / 2047\n",
    "    return Vbus\n",
    "    \n",
    "BoostPOTAddr = 0x2D\n",
    "BoostADCAddr = 0x18 \n",
    "BoostPOT = mcp.I2C_Slave(BoostPOTAddr)\n",
    "# initialize ADC \n",
    "# write in 0x0b register 0x56 for the channel 1 configuration\n",
    "potCode = []\n",
    "ADC = []\n",
    "mulMeter = []\n",
    "diff = []\n",
    "# for code in range(0,0x66):\n",
    "#     BoostPOT.write([0x2,code])\n",
    "#     mulMeter.append(meter.meas_V())\n",
    "#     ADC.append(ADC_Vbus_Value(BoostADCAddr))\n",
    "#     potCode.append(code)\n",
    "#     diff.append(mulMeter[-1] - ADC[-1])\n",
    "#     print(f'code :{potCode[-1]} meterValue:{mulMeter[-1]}V ADC:{ADC[-1]}V difference:{diff[-1]}')\n",
    "#     sleep(0.3)\n",
    "# data = pd.DataFrame([mulMeter,ADC,diff,potCode]).T\n",
    "# columns = {col:newcol for col,newcol in zip(data.columns.to_list(),['meterVoltage','ADCVoltage','Difference','potCode'] )}\n",
    "# data.rename(columns=columns).to_excel('VBIAS_Boost1.xlsx')\n",
    "    "
   ]
  },
  {
   "cell_type": "code",
   "execution_count": 12,
   "metadata": {},
   "outputs": [],
   "source": [
    "BoostPOT.write([0x2,0x46])"
   ]
  },
  {
   "cell_type": "code",
   "execution_count": 8,
   "metadata": {},
   "outputs": [
    {
     "data": {
      "image/png": "[encoded data removed]",
      "text/plain": [
       "<Figure size 640x480 with 1 Axes>"
      ]
     },
     "metadata": {},
     "output_type": "display_data"
    }
   ],
   "source": [
    "import matplotlib.pyplot as plt \n",
    "\n",
    "r1=51*10**3\n",
    "r2 = []\n",
    "vout = []\n",
    "for i in range(0x46,0x66):\n",
    "    BoostPOT.write([0x2,i])\n",
    "    vout.append(meter.meas_V())\n",
    "    r2.append(r1/((vout[-1]/1.27 -1)))\n",
    "    sleep(0.1)\n",
    "\n",
    "plt.plot(vout,r2)\n",
    "data = pd.DataFrame([vout,r2]).T\n",
    "columns = {col:newcol for col,newcol in zip(data.columns.to_list(),['Vout','r2'] )}\n",
    "data.rename(columns=columns).to_excel('r2.xlsx')"
   ]
  },
  {
   "cell_type": "code",
   "execution_count": 38,
   "metadata": {},
   "outputs": [
    {
     "data": {
      "text/plain": [
       "255"
      ]
     },
     "execution_count": 38,
     "metadata": {},
     "output_type": "execute_result"
    }
   ],
   "source": [
    "import struct\n",
    "int.from_bytes(b'\\xff','big')"
   ]
  },
  {
   "cell_type": "code",
   "execution_count": 2,
   "metadata": {},
   "outputs": [
    {
     "data": {
      "text/plain": [
       "('ASRL3::INSTR',\n",
       " 'ASRL4::INSTR',\n",
       " 'ASRL5::INSTR',\n",
       " 'ASRL6::INSTR',\n",
       " 'ASRL10::INSTR',\n",
       " 'ASRL15::INSTR',\n",
       " 'GPIB0::25::INSTR')"
      ]
     },
     "execution_count": 2,
     "metadata": {},
     "output_type": "execute_result"
    }
   ],
   "source": [
    "import pyvisa as visa \n",
    "\n",
    "rm = visa.ResourceManager()\n",
    "rm.list_resources()"
   ]
  }
 ],
 "metadata": {
  "kernelspec": {
   "display_name": "env",
   "language": "python",
   "name": "python3"
  },
  "language_info": {
   "codemirror_mode": {
    "name": "ipython",
    "version": 3
   },
   "file_extension": ".py",
   "mimetype": "text/x-python",
   "name": "python",
   "nbconvert_exporter": "python",
   "pygments_lexer": "ipython3",
   "version": "3.12.6"
  }
 },
 "nbformat": 4,
 "nbformat_minor": 2
}
